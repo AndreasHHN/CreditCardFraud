{
  "cells": [
    {
      "cell_type": "markdown",
      "metadata": {
        "id": "view-in-github",
        "colab_type": "text"
      },
      "source": [
        "<a href=\"https://colab.research.google.com/github/AndreasHHN/CreditCardFraud/blob/main/Untitled0.ipynb\" target=\"_parent\"><img src=\"https://colab.research.google.com/assets/colab-badge.svg\" alt=\"Open In Colab\"/></a>"
      ]
    },
    {
      "cell_type": "markdown",
      "source": [
        "# Imports"
      ],
      "metadata": {
        "id": "kUGvZhZksDeO"
      }
    },
    {
      "cell_type": "code",
      "execution_count": 1,
      "metadata": {
        "id": "J-uBKlJnQBpF"
      },
      "outputs": [],
      "source": [
        "import pandas as pd\n",
        "import numpy as np\n",
        "from sklearn.model_selection import train_test_split\n",
        "from sklearn.preprocessing import StandardScaler\n",
        "import torch\n",
        "import torch.nn as nn\n",
        "import torch.optim as optim\n",
        "from torch.utils.data import DataLoader, TensorDataset\n",
        "from sklearn.metrics import roc_auc_score\n",
        "from math import radians, sin, cos, sqrt, atan2"
      ]
    },
    {
      "cell_type": "markdown",
      "source": [
        "# DF laden"
      ],
      "metadata": {
        "id": "cvZHxIYksJM5"
      }
    },
    {
      "cell_type": "code",
      "execution_count": null,
      "metadata": {
        "id": "j_zqTn9wQbEE",
        "colab": {
          "base_uri": "https://localhost:8080/",
          "height": 338
        },
        "outputId": "e86c890d-2beb-48a4-e9fc-751faec52e6a"
      },
      "outputs": [
        {
          "output_type": "error",
          "ename": "FileNotFoundError",
          "evalue": "[Errno 2] No such file or directory: './fraudTrain.csv'",
          "traceback": [
            "\u001b[0;31m---------------------------------------------------------------------------\u001b[0m",
            "\u001b[0;31mFileNotFoundError\u001b[0m                         Traceback (most recent call last)",
            "\u001b[0;32m<ipython-input-2-4ca68a369dd4>\u001b[0m in \u001b[0;36m<cell line: 1>\u001b[0;34m()\u001b[0m\n\u001b[0;32m----> 1\u001b[0;31m \u001b[0mdf\u001b[0m \u001b[0;34m=\u001b[0m \u001b[0mpd\u001b[0m\u001b[0;34m.\u001b[0m\u001b[0mread_csv\u001b[0m\u001b[0;34m(\u001b[0m\u001b[0;34m'./fraudTrain.csv'\u001b[0m\u001b[0;34m)\u001b[0m\u001b[0;34m\u001b[0m\u001b[0;34m\u001b[0m\u001b[0m\n\u001b[0m\u001b[1;32m      2\u001b[0m \u001b[0mdf\u001b[0m\u001b[0;34m.\u001b[0m\u001b[0mhead\u001b[0m\u001b[0;34m(\u001b[0m\u001b[0;34m)\u001b[0m\u001b[0;34m\u001b[0m\u001b[0;34m\u001b[0m\u001b[0m\n",
            "\u001b[0;32m/usr/local/lib/python3.10/dist-packages/pandas/util/_decorators.py\u001b[0m in \u001b[0;36mwrapper\u001b[0;34m(*args, **kwargs)\u001b[0m\n\u001b[1;32m    209\u001b[0m                 \u001b[0;32melse\u001b[0m\u001b[0;34m:\u001b[0m\u001b[0;34m\u001b[0m\u001b[0;34m\u001b[0m\u001b[0m\n\u001b[1;32m    210\u001b[0m                     \u001b[0mkwargs\u001b[0m\u001b[0;34m[\u001b[0m\u001b[0mnew_arg_name\u001b[0m\u001b[0;34m]\u001b[0m \u001b[0;34m=\u001b[0m \u001b[0mnew_arg_value\u001b[0m\u001b[0;34m\u001b[0m\u001b[0;34m\u001b[0m\u001b[0m\n\u001b[0;32m--> 211\u001b[0;31m             \u001b[0;32mreturn\u001b[0m \u001b[0mfunc\u001b[0m\u001b[0;34m(\u001b[0m\u001b[0;34m*\u001b[0m\u001b[0margs\u001b[0m\u001b[0;34m,\u001b[0m \u001b[0;34m**\u001b[0m\u001b[0mkwargs\u001b[0m\u001b[0;34m)\u001b[0m\u001b[0;34m\u001b[0m\u001b[0;34m\u001b[0m\u001b[0m\n\u001b[0m\u001b[1;32m    212\u001b[0m \u001b[0;34m\u001b[0m\u001b[0m\n\u001b[1;32m    213\u001b[0m         \u001b[0;32mreturn\u001b[0m \u001b[0mcast\u001b[0m\u001b[0;34m(\u001b[0m\u001b[0mF\u001b[0m\u001b[0;34m,\u001b[0m \u001b[0mwrapper\u001b[0m\u001b[0;34m)\u001b[0m\u001b[0;34m\u001b[0m\u001b[0;34m\u001b[0m\u001b[0m\n",
            "\u001b[0;32m/usr/local/lib/python3.10/dist-packages/pandas/util/_decorators.py\u001b[0m in \u001b[0;36mwrapper\u001b[0;34m(*args, **kwargs)\u001b[0m\n\u001b[1;32m    329\u001b[0m                     \u001b[0mstacklevel\u001b[0m\u001b[0;34m=\u001b[0m\u001b[0mfind_stack_level\u001b[0m\u001b[0;34m(\u001b[0m\u001b[0;34m)\u001b[0m\u001b[0;34m,\u001b[0m\u001b[0;34m\u001b[0m\u001b[0;34m\u001b[0m\u001b[0m\n\u001b[1;32m    330\u001b[0m                 )\n\u001b[0;32m--> 331\u001b[0;31m             \u001b[0;32mreturn\u001b[0m \u001b[0mfunc\u001b[0m\u001b[0;34m(\u001b[0m\u001b[0;34m*\u001b[0m\u001b[0margs\u001b[0m\u001b[0;34m,\u001b[0m \u001b[0;34m**\u001b[0m\u001b[0mkwargs\u001b[0m\u001b[0;34m)\u001b[0m\u001b[0;34m\u001b[0m\u001b[0;34m\u001b[0m\u001b[0m\n\u001b[0m\u001b[1;32m    332\u001b[0m \u001b[0;34m\u001b[0m\u001b[0m\n\u001b[1;32m    333\u001b[0m         \u001b[0;31m# error: \"Callable[[VarArg(Any), KwArg(Any)], Any]\" has no\u001b[0m\u001b[0;34m\u001b[0m\u001b[0;34m\u001b[0m\u001b[0m\n",
            "\u001b[0;32m/usr/local/lib/python3.10/dist-packages/pandas/io/parsers/readers.py\u001b[0m in \u001b[0;36mread_csv\u001b[0;34m(filepath_or_buffer, sep, delimiter, header, names, index_col, usecols, squeeze, prefix, mangle_dupe_cols, dtype, engine, converters, true_values, false_values, skipinitialspace, skiprows, skipfooter, nrows, na_values, keep_default_na, na_filter, verbose, skip_blank_lines, parse_dates, infer_datetime_format, keep_date_col, date_parser, dayfirst, cache_dates, iterator, chunksize, compression, thousands, decimal, lineterminator, quotechar, quoting, doublequote, escapechar, comment, encoding, encoding_errors, dialect, error_bad_lines, warn_bad_lines, on_bad_lines, delim_whitespace, low_memory, memory_map, float_precision, storage_options)\u001b[0m\n\u001b[1;32m    948\u001b[0m     \u001b[0mkwds\u001b[0m\u001b[0;34m.\u001b[0m\u001b[0mupdate\u001b[0m\u001b[0;34m(\u001b[0m\u001b[0mkwds_defaults\u001b[0m\u001b[0;34m)\u001b[0m\u001b[0;34m\u001b[0m\u001b[0;34m\u001b[0m\u001b[0m\n\u001b[1;32m    949\u001b[0m \u001b[0;34m\u001b[0m\u001b[0m\n\u001b[0;32m--> 950\u001b[0;31m     \u001b[0;32mreturn\u001b[0m \u001b[0m_read\u001b[0m\u001b[0;34m(\u001b[0m\u001b[0mfilepath_or_buffer\u001b[0m\u001b[0;34m,\u001b[0m \u001b[0mkwds\u001b[0m\u001b[0;34m)\u001b[0m\u001b[0;34m\u001b[0m\u001b[0;34m\u001b[0m\u001b[0m\n\u001b[0m\u001b[1;32m    951\u001b[0m \u001b[0;34m\u001b[0m\u001b[0m\n\u001b[1;32m    952\u001b[0m \u001b[0;34m\u001b[0m\u001b[0m\n",
            "\u001b[0;32m/usr/local/lib/python3.10/dist-packages/pandas/io/parsers/readers.py\u001b[0m in \u001b[0;36m_read\u001b[0;34m(filepath_or_buffer, kwds)\u001b[0m\n\u001b[1;32m    603\u001b[0m \u001b[0;34m\u001b[0m\u001b[0m\n\u001b[1;32m    604\u001b[0m     \u001b[0;31m# Create the parser.\u001b[0m\u001b[0;34m\u001b[0m\u001b[0;34m\u001b[0m\u001b[0m\n\u001b[0;32m--> 605\u001b[0;31m     \u001b[0mparser\u001b[0m \u001b[0;34m=\u001b[0m \u001b[0mTextFileReader\u001b[0m\u001b[0;34m(\u001b[0m\u001b[0mfilepath_or_buffer\u001b[0m\u001b[0;34m,\u001b[0m \u001b[0;34m**\u001b[0m\u001b[0mkwds\u001b[0m\u001b[0;34m)\u001b[0m\u001b[0;34m\u001b[0m\u001b[0;34m\u001b[0m\u001b[0m\n\u001b[0m\u001b[1;32m    606\u001b[0m \u001b[0;34m\u001b[0m\u001b[0m\n\u001b[1;32m    607\u001b[0m     \u001b[0;32mif\u001b[0m \u001b[0mchunksize\u001b[0m \u001b[0;32mor\u001b[0m \u001b[0miterator\u001b[0m\u001b[0;34m:\u001b[0m\u001b[0;34m\u001b[0m\u001b[0;34m\u001b[0m\u001b[0m\n",
            "\u001b[0;32m/usr/local/lib/python3.10/dist-packages/pandas/io/parsers/readers.py\u001b[0m in \u001b[0;36m__init__\u001b[0;34m(self, f, engine, **kwds)\u001b[0m\n\u001b[1;32m   1440\u001b[0m \u001b[0;34m\u001b[0m\u001b[0m\n\u001b[1;32m   1441\u001b[0m         \u001b[0mself\u001b[0m\u001b[0;34m.\u001b[0m\u001b[0mhandles\u001b[0m\u001b[0;34m:\u001b[0m \u001b[0mIOHandles\u001b[0m \u001b[0;34m|\u001b[0m \u001b[0;32mNone\u001b[0m \u001b[0;34m=\u001b[0m \u001b[0;32mNone\u001b[0m\u001b[0;34m\u001b[0m\u001b[0;34m\u001b[0m\u001b[0m\n\u001b[0;32m-> 1442\u001b[0;31m         \u001b[0mself\u001b[0m\u001b[0;34m.\u001b[0m\u001b[0m_engine\u001b[0m \u001b[0;34m=\u001b[0m \u001b[0mself\u001b[0m\u001b[0;34m.\u001b[0m\u001b[0m_make_engine\u001b[0m\u001b[0;34m(\u001b[0m\u001b[0mf\u001b[0m\u001b[0;34m,\u001b[0m \u001b[0mself\u001b[0m\u001b[0;34m.\u001b[0m\u001b[0mengine\u001b[0m\u001b[0;34m)\u001b[0m\u001b[0;34m\u001b[0m\u001b[0;34m\u001b[0m\u001b[0m\n\u001b[0m\u001b[1;32m   1443\u001b[0m \u001b[0;34m\u001b[0m\u001b[0m\n\u001b[1;32m   1444\u001b[0m     \u001b[0;32mdef\u001b[0m \u001b[0mclose\u001b[0m\u001b[0;34m(\u001b[0m\u001b[0mself\u001b[0m\u001b[0;34m)\u001b[0m \u001b[0;34m->\u001b[0m \u001b[0;32mNone\u001b[0m\u001b[0;34m:\u001b[0m\u001b[0;34m\u001b[0m\u001b[0;34m\u001b[0m\u001b[0m\n",
            "\u001b[0;32m/usr/local/lib/python3.10/dist-packages/pandas/io/parsers/readers.py\u001b[0m in \u001b[0;36m_make_engine\u001b[0;34m(self, f, engine)\u001b[0m\n\u001b[1;32m   1733\u001b[0m                 \u001b[0;32mif\u001b[0m \u001b[0;34m\"b\"\u001b[0m \u001b[0;32mnot\u001b[0m \u001b[0;32min\u001b[0m \u001b[0mmode\u001b[0m\u001b[0;34m:\u001b[0m\u001b[0;34m\u001b[0m\u001b[0;34m\u001b[0m\u001b[0m\n\u001b[1;32m   1734\u001b[0m                     \u001b[0mmode\u001b[0m \u001b[0;34m+=\u001b[0m \u001b[0;34m\"b\"\u001b[0m\u001b[0;34m\u001b[0m\u001b[0;34m\u001b[0m\u001b[0m\n\u001b[0;32m-> 1735\u001b[0;31m             self.handles = get_handle(\n\u001b[0m\u001b[1;32m   1736\u001b[0m                 \u001b[0mf\u001b[0m\u001b[0;34m,\u001b[0m\u001b[0;34m\u001b[0m\u001b[0;34m\u001b[0m\u001b[0m\n\u001b[1;32m   1737\u001b[0m                 \u001b[0mmode\u001b[0m\u001b[0;34m,\u001b[0m\u001b[0;34m\u001b[0m\u001b[0;34m\u001b[0m\u001b[0m\n",
            "\u001b[0;32m/usr/local/lib/python3.10/dist-packages/pandas/io/common.py\u001b[0m in \u001b[0;36mget_handle\u001b[0;34m(path_or_buf, mode, encoding, compression, memory_map, is_text, errors, storage_options)\u001b[0m\n\u001b[1;32m    854\u001b[0m         \u001b[0;32mif\u001b[0m \u001b[0mioargs\u001b[0m\u001b[0;34m.\u001b[0m\u001b[0mencoding\u001b[0m \u001b[0;32mand\u001b[0m \u001b[0;34m\"b\"\u001b[0m \u001b[0;32mnot\u001b[0m \u001b[0;32min\u001b[0m \u001b[0mioargs\u001b[0m\u001b[0;34m.\u001b[0m\u001b[0mmode\u001b[0m\u001b[0;34m:\u001b[0m\u001b[0;34m\u001b[0m\u001b[0;34m\u001b[0m\u001b[0m\n\u001b[1;32m    855\u001b[0m             \u001b[0;31m# Encoding\u001b[0m\u001b[0;34m\u001b[0m\u001b[0;34m\u001b[0m\u001b[0m\n\u001b[0;32m--> 856\u001b[0;31m             handle = open(\n\u001b[0m\u001b[1;32m    857\u001b[0m                 \u001b[0mhandle\u001b[0m\u001b[0;34m,\u001b[0m\u001b[0;34m\u001b[0m\u001b[0;34m\u001b[0m\u001b[0m\n\u001b[1;32m    858\u001b[0m                 \u001b[0mioargs\u001b[0m\u001b[0;34m.\u001b[0m\u001b[0mmode\u001b[0m\u001b[0;34m,\u001b[0m\u001b[0;34m\u001b[0m\u001b[0;34m\u001b[0m\u001b[0m\n",
            "\u001b[0;31mFileNotFoundError\u001b[0m: [Errno 2] No such file or directory: './fraudTrain.csv'"
          ]
        }
      ],
      "source": [
        "df = pd.read_csv('./fraudTrain.csv')\n",
        "df.head()"
      ]
    },
    {
      "cell_type": "markdown",
      "source": [
        "# DF bereinigen"
      ],
      "metadata": {
        "id": "RS-KBTUdsIv9"
      }
    },
    {
      "cell_type": "code",
      "source": [
        "df = df.drop_duplicates()\n",
        "df = df.dropna()"
      ],
      "metadata": {
        "id": "OdmD7jfrt-fm"
      },
      "execution_count": null,
      "outputs": []
    },
    {
      "cell_type": "markdown",
      "source": [
        "# Kleineneren Trainingsdatensatz anlegen\n"
      ],
      "metadata": {
        "id": "FHUU4bRvum61"
      }
    },
    {
      "cell_type": "code",
      "source": [
        "fraud = df[df['is_fraud'] == 1]\n",
        "normal = df[df['is_fraud'] == 0]"
      ],
      "metadata": {
        "id": "cRxVBIsFutYT"
      },
      "execution_count": null,
      "outputs": []
    },
    {
      "cell_type": "code",
      "source": [
        "print(fraud.value_counts())"
      ],
      "metadata": {
        "colab": {
          "base_uri": "https://localhost:8080/"
        },
        "id": "7JBlcAVKu80I",
        "outputId": "5bce9558-795a-4f53-bd11-31dbefed40a2"
      },
      "execution_count": null,
      "outputs": [
        {
          "output_type": "stream",
          "name": "stdout",
          "text": [
            "Unnamed: 0  trans_date_trans_time  cc_num               merchant                  category       amt      first       last     gender  street                        city           state  zip    lat      long      city_pop  job                    dob         trans_num                         unix_time   merch_lat  merch_long  is_fraud\n",
            "2449        2019-01-02 01:06:37    4613314721966        fraud_Rutherford-Mertz    grocery_pos    281.06   Jason       Murphy   M       542 Steve Curve Suite 011     Collettsville  NC     28611  35.9946  -81.7266  885       Soil scientist         1988-09-15  e8a81877ae9a0a7f883e15cb39dc4022  1325466397  36.430124  -81.179483  1           1\n",
            "286908      2019-05-20 22:40:41    38199021865320       fraud_Buckridge PLC       misc_pos       7.73     Jesse       Roberts  M       8415 Vaughn Squares Apt. 788  Acworth        NH     3601   43.1960  -72.3001  477       Naval architect        1988-04-15  826cb7d424668711435cc552fd505b9d  1337553641  43.852330  -72.264315  1           1\n",
            "286783      2019-05-20 22:00:26    2720433095629877     fraud_Abshire PLC         entertainment  561.06   Mark        Wood     M       854 Walker Dale Suite 488     Bowdoin        ME     4287   44.0575  -69.9656  3224      Engineer, electronics  1997-08-22  61d285884cbf5dab9061b0c31e0d6d69  1337551226  44.174419  -69.058194  1           1\n",
            "286791      2019-05-20 22:03:30    6011438889172900     fraud_Abernathy and Sons  food_dining    126.96   Allison     Allen    F       40624 Rebecca Spurs           De Witt        AR     72042  34.2853  -91.3336  5161      Electrical engineer    1993-04-08  1ca48c31512f09368dbad57a87ba5bca  1337551410  34.021363  -91.823343  1           1\n",
            "286803      2019-05-20 22:07:17    2260801330657968     fraud_Pouros-Conroy       shopping_pos   1042.49  Monique     Fox      F       755 Gardner Heights Apt. 420  Paxton         MA     1612   42.3066  -71.9202  4845      Accounting technician  1926-09-14  5dba4d3068bb113cb59039ead7cf683e  1337551637  42.220202  -71.751317  1           1\n",
            "                                                                                                                                                                                                                                                                                                                                                  ..\n",
            "114678      2019-03-06 00:31:42    2227671554547514     fraud_Gutmann-Upton       misc_pos       6.98     Angie       Jones    F       6970 Blake Trail              Clearwater     FL     33760  27.9004  -82.7152  172247    Geneticist, molecular  1979-10-22  9a90ccade4ec387ffd1ca0ab38d1dcf2  1330993902  26.923996  -81.748819  1           1\n",
            "114753      2019-03-06 01:44:51    4998109455173950     fraud_Boyer PLC           shopping_net   1039.27  Mary        Pruitt   F       2819 Luke Greens Suite 563    Kansas City    MO     64114  38.9621  -94.5959  545147    Counsellor             1987-11-18  ed0ec42b1cd4dadda39afaf5d5676bc8  1330998291  38.006880  -93.634885  1           1\n",
            "115006      2019-03-06 05:58:12    2227671554547514     fraud_Herman Inc          misc_pos       7.86     Angie       Jones    F       6970 Blake Trail              Clearwater     FL     33760  27.9004  -82.7152  172247    Geneticist, molecular  1979-10-22  8df775bf92539fb55ce782f16ede1f09  1331013492  27.273494  -83.057160  1           1\n",
            "115138      2019-03-06 08:25:15    2227671554547514     fraud_Torphy-Goyette      shopping_pos   866.88   Angie       Jones    F       6970 Blake Trail              Clearwater     FL     33760  27.9004  -82.7152  172247    Geneticist, molecular  1979-10-22  d7f13c484d6010e95f596aeaae8e1051  1331022315  27.139966  -82.866194  1           1\n",
            "554183      2019-08-25 00:33:45    4162872756672112717  fraud_Miller-Hauck        grocery_pos    296.26   Jacqueline  Johnson  F       0467 Jerry Pines Apt. 640     Ridge Spring   SC     29129  33.8714  -81.6559  3164      Field trials officer   1961-01-30  8630302e1c42c1775a2423e0c7427a1a  1345854825  33.471080  -80.850442  1           1\n",
            "Length: 3234, dtype: int64\n"
          ]
        }
      ]
    },
    {
      "cell_type": "code",
      "source": [
        "print(normal.value_counts())"
      ],
      "metadata": {
        "colab": {
          "base_uri": "https://localhost:8080/"
        },
        "id": "7Zrg3qcpvIb8",
        "outputId": "b4fc2ca5-b248-4fe1-b26c-402fb73f43a9"
      },
      "execution_count": null,
      "outputs": [
        {
          "output_type": "stream",
          "name": "stdout",
          "text": [
            "Unnamed: 0  trans_date_trans_time  cc_num               merchant                            category        amt     first     last        gender  street                        city            state  zip    lat      long      city_pop  job                          dob         trans_num                         unix_time   merch_lat  merch_long  is_fraud\n",
            "0           2019-01-01 00:00:18    2703186189652095     fraud_Rippin, Kub and Mann          misc_net        4.97    Jennifer  Banks       F       561 Perry Cove                Moravian Falls  NC     28654  36.0788  -81.1781  3495      Psychologist, counselling    1988-03-09  0b242abb623afc578575680df30655b9  1325376018  36.011293  -82.048315  0           1\n",
            "369828      2019-06-20 15:42:48    4173950183554608     fraud_Shields-Wunsch                health_fitness  35.54   Stephen   Marshall    M       47144 Roberts Keys            Monmouth Beach  NJ     7750   40.3330  -73.9809  3279      Health promotion specialist  1978-10-05  c204192e41c38ed8838ee73851cbfa77  1340206968  41.186936  -73.240174  0           1\n",
            "369842      2019-06-20 15:48:29    4998109455173950     fraud_Volkman-Predovic              shopping_net    2.45    Mary      Pruitt      F       2819 Luke Greens Suite 563    Kansas City     MO     64114  38.9621  -94.5959  545147    Counsellor                   1987-11-18  31b3009b37b6f4ce2d4fc908b042b4a9  1340207309  38.512018  -94.888083  0           1\n",
            "369841      2019-06-20 15:47:51    4661996144291811856  fraud_Champlin-Casper               home            24.23   Linda     Park        F       24607 Charles Mountains       Fenelton        PA     16034  40.8555  -79.7372  2054      Operations geologist         1963-08-04  691650f4a9abd63b5b363d5ad395d676  1340207271  41.032969  -80.100576  0           1\n",
            "369840      2019-06-20 15:47:29    4878364946692291     fraud_Brown Inc                     kids_pets       14.91   Tina      Alvarez     F       1976 Tyler Underpass          Early           IA     50535  42.4483  -95.1726  885       Pilot, airline               1949-08-14  87f8b3a299ce0a4b23b63e793543100a  1340207249  42.799660  -95.713183  0           1\n",
            "                                                                                                                                                                                                                                                                                                                                                                    ..\n",
            "185230      2019-04-06 18:13:48    213124978348176      fraud_Jacobi Inc                    health_fitness  76.17   Steven    Arnold      M       079 Chelsea Rest              Belfast         NY     14711  42.3200  -78.0943  1766      Mechanical engineer          1962-06-04  cce3b4da9871e86730ba4ff5649eb1c4  1333736028  43.293682  -77.572758  0           1\n",
            "185229      2019-04-06 18:13:06    3527536963490470     fraud_Mante, Luettgen and Hackett   health_fitness  78.05   Teresa    Stein       F       2838 White Fields Apt. 473    Brunson         SC     29911  32.9413  -81.1807  1725      Social researcher            1974-12-05  8d3bbc8e70cd6b7e22df8b258d202c99  1333735986  32.131433  -81.545539  0           1\n",
            "185228      2019-04-06 18:12:26    345832460465610      fraud_Labadie LLC                   personal_care   108.13  Jason     Mcmahon     M       6385 Donald Square Suite 429  Springfield     VA     22151  38.8029  -77.2116  104396    Production engineer          1950-11-20  69fc151b3e54bf35f9050300c4c2a2b1  1333735946  39.550137  -77.878816  0           1\n",
            "185227      2019-04-06 18:11:48    3560318482131952     fraud_Schiller, Blanda and Johnson  home            8.59    William   Skinner     M       524 Wu Spurs Suite 894        Mount Hope      AL     35651  34.4793  -87.4769  1312      Librarian, academic          1955-02-01  69c68690da2abec98907e87acb549e11  1333735908  34.197723  -88.004827  0           1\n",
            "554235      2019-08-25 01:01:15    4198470814557        fraud_Lockman Ltd                   grocery_pos     80.76   Christie  Williamson  F       519 Jerry Views               Avoca           IA     51521  41.4768  -95.3509  2036      Engineering geologist        1971-08-20  41f41c2e3e7c45e5405dedad3c09afd9  1345856475  42.231868  -94.457819  0           1\n",
            "Length: 551002, dtype: int64\n"
          ]
        }
      ]
    },
    {
      "cell_type": "code",
      "source": [
        "fraud = fraud.head(1000)\n",
        "normal = normal.head(99000)"
      ],
      "metadata": {
        "id": "dq30RjNPvUV6"
      },
      "execution_count": null,
      "outputs": []
    },
    {
      "cell_type": "code",
      "source": [
        "df_train = pd.concat([fraud, normal], ignore_index=True)"
      ],
      "metadata": {
        "id": "r2FIpz-evdvO"
      },
      "execution_count": null,
      "outputs": []
    },
    {
      "cell_type": "code",
      "source": [
        "df_train.tail()"
      ],
      "metadata": {
        "colab": {
          "base_uri": "https://localhost:8080/",
          "height": 440
        },
        "id": "IWrljecbvpON",
        "outputId": "e97cc41e-4db6-414b-a8b0-0891f8646d1f"
      },
      "execution_count": null,
      "outputs": [
        {
          "output_type": "execute_result",
          "data": {
            "text/plain": [
              "       Unnamed: 0 trans_date_trans_time            cc_num  \\\n",
              "99995       99984   2019-02-28 15:27:36  4836998673805450   \n",
              "99996       99985   2019-02-28 15:27:55  4450831335606294   \n",
              "99997       99986   2019-02-28 15:29:23  6011679934075347   \n",
              "99998       99987   2019-02-28 15:29:41  6011542681743618   \n",
              "99999       99988   2019-02-28 15:30:09  3513618443244549   \n",
              "\n",
              "                                    merchant        category    amt     first  \\\n",
              "99995                        fraud_Rau-Grant       kids_pets  83.51     Susan   \n",
              "99996                       fraud_Rempel Inc    shopping_net   8.40     Donna   \n",
              "99997  fraud_Wuckert, Wintheiser and Friesen            home  48.07  Jennifer   \n",
              "99998                     fraud_Kassulke PLC    shopping_net   6.49     Emily   \n",
              "99999  fraud_Conroy, Balistreri and Gorczany  health_fitness  40.23     Amber   \n",
              "\n",
              "           last gender              street  ...      lat      long  city_pop  \\\n",
              "99995     Hardy      F     516 Brown Parks  ...  46.0062  -86.2555      6469   \n",
              "99996     Davis      F  6760 Donovan Lakes  ...  34.5906  -95.3800      1760   \n",
              "99997  Gonzalez      F     5517 Stacy Land  ...  41.0539 -106.0763       100   \n",
              "99998      Hall      F     8851 Reese Neck  ...  38.8089  -78.7776       863   \n",
              "99999     Perez      F      954 Reyes Ways  ...  43.7588  -97.8712       355   \n",
              "\n",
              "                             job         dob  \\\n",
              "99995        Trade mark attorney  1979-04-12   \n",
              "99996  Occupational psychologist  1972-01-20   \n",
              "99997           Public librarian  1974-04-16   \n",
              "99998           Engineer, mining  1972-08-09   \n",
              "99999          Financial adviser  1955-06-26   \n",
              "\n",
              "                              trans_num   unix_time  merch_lat  merch_long  \\\n",
              "99995  93538c74ea5b961aaf51ae745ccb0ced  1330442856  46.611115  -87.175643   \n",
              "99996  74caf8b4ca999e4532a121792b1d7598  1330442875  33.759572  -94.844801   \n",
              "99997  f50d5a7ab3a424077d317c868b54cbe1  1330442963  40.415935 -107.056701   \n",
              "99998  c1baf744895ccdd487df277a96b3b49e  1330442981  38.058420  -79.107389   \n",
              "99999  0f0e93c28ae80893cc8c3bdb131681c2  1330443009  43.344834  -97.138404   \n",
              "\n",
              "       is_fraud  \n",
              "99995         0  \n",
              "99996         0  \n",
              "99997         0  \n",
              "99998         0  \n",
              "99999         0  \n",
              "\n",
              "[5 rows x 23 columns]"
            ],
            "text/html": [
              "\n",
              "  <div id=\"df-1fe21452-22a2-482a-ae80-e93de4b7916d\" class=\"colab-df-container\">\n",
              "    <div>\n",
              "<style scoped>\n",
              "    .dataframe tbody tr th:only-of-type {\n",
              "        vertical-align: middle;\n",
              "    }\n",
              "\n",
              "    .dataframe tbody tr th {\n",
              "        vertical-align: top;\n",
              "    }\n",
              "\n",
              "    .dataframe thead th {\n",
              "        text-align: right;\n",
              "    }\n",
              "</style>\n",
              "<table border=\"1\" class=\"dataframe\">\n",
              "  <thead>\n",
              "    <tr style=\"text-align: right;\">\n",
              "      <th></th>\n",
              "      <th>Unnamed: 0</th>\n",
              "      <th>trans_date_trans_time</th>\n",
              "      <th>cc_num</th>\n",
              "      <th>merchant</th>\n",
              "      <th>category</th>\n",
              "      <th>amt</th>\n",
              "      <th>first</th>\n",
              "      <th>last</th>\n",
              "      <th>gender</th>\n",
              "      <th>street</th>\n",
              "      <th>...</th>\n",
              "      <th>lat</th>\n",
              "      <th>long</th>\n",
              "      <th>city_pop</th>\n",
              "      <th>job</th>\n",
              "      <th>dob</th>\n",
              "      <th>trans_num</th>\n",
              "      <th>unix_time</th>\n",
              "      <th>merch_lat</th>\n",
              "      <th>merch_long</th>\n",
              "      <th>is_fraud</th>\n",
              "    </tr>\n",
              "  </thead>\n",
              "  <tbody>\n",
              "    <tr>\n",
              "      <th>99995</th>\n",
              "      <td>99984</td>\n",
              "      <td>2019-02-28 15:27:36</td>\n",
              "      <td>4836998673805450</td>\n",
              "      <td>fraud_Rau-Grant</td>\n",
              "      <td>kids_pets</td>\n",
              "      <td>83.51</td>\n",
              "      <td>Susan</td>\n",
              "      <td>Hardy</td>\n",
              "      <td>F</td>\n",
              "      <td>516 Brown Parks</td>\n",
              "      <td>...</td>\n",
              "      <td>46.0062</td>\n",
              "      <td>-86.2555</td>\n",
              "      <td>6469</td>\n",
              "      <td>Trade mark attorney</td>\n",
              "      <td>1979-04-12</td>\n",
              "      <td>93538c74ea5b961aaf51ae745ccb0ced</td>\n",
              "      <td>1330442856</td>\n",
              "      <td>46.611115</td>\n",
              "      <td>-87.175643</td>\n",
              "      <td>0</td>\n",
              "    </tr>\n",
              "    <tr>\n",
              "      <th>99996</th>\n",
              "      <td>99985</td>\n",
              "      <td>2019-02-28 15:27:55</td>\n",
              "      <td>4450831335606294</td>\n",
              "      <td>fraud_Rempel Inc</td>\n",
              "      <td>shopping_net</td>\n",
              "      <td>8.40</td>\n",
              "      <td>Donna</td>\n",
              "      <td>Davis</td>\n",
              "      <td>F</td>\n",
              "      <td>6760 Donovan Lakes</td>\n",
              "      <td>...</td>\n",
              "      <td>34.5906</td>\n",
              "      <td>-95.3800</td>\n",
              "      <td>1760</td>\n",
              "      <td>Occupational psychologist</td>\n",
              "      <td>1972-01-20</td>\n",
              "      <td>74caf8b4ca999e4532a121792b1d7598</td>\n",
              "      <td>1330442875</td>\n",
              "      <td>33.759572</td>\n",
              "      <td>-94.844801</td>\n",
              "      <td>0</td>\n",
              "    </tr>\n",
              "    <tr>\n",
              "      <th>99997</th>\n",
              "      <td>99986</td>\n",
              "      <td>2019-02-28 15:29:23</td>\n",
              "      <td>6011679934075347</td>\n",
              "      <td>fraud_Wuckert, Wintheiser and Friesen</td>\n",
              "      <td>home</td>\n",
              "      <td>48.07</td>\n",
              "      <td>Jennifer</td>\n",
              "      <td>Gonzalez</td>\n",
              "      <td>F</td>\n",
              "      <td>5517 Stacy Land</td>\n",
              "      <td>...</td>\n",
              "      <td>41.0539</td>\n",
              "      <td>-106.0763</td>\n",
              "      <td>100</td>\n",
              "      <td>Public librarian</td>\n",
              "      <td>1974-04-16</td>\n",
              "      <td>f50d5a7ab3a424077d317c868b54cbe1</td>\n",
              "      <td>1330442963</td>\n",
              "      <td>40.415935</td>\n",
              "      <td>-107.056701</td>\n",
              "      <td>0</td>\n",
              "    </tr>\n",
              "    <tr>\n",
              "      <th>99998</th>\n",
              "      <td>99987</td>\n",
              "      <td>2019-02-28 15:29:41</td>\n",
              "      <td>6011542681743618</td>\n",
              "      <td>fraud_Kassulke PLC</td>\n",
              "      <td>shopping_net</td>\n",
              "      <td>6.49</td>\n",
              "      <td>Emily</td>\n",
              "      <td>Hall</td>\n",
              "      <td>F</td>\n",
              "      <td>8851 Reese Neck</td>\n",
              "      <td>...</td>\n",
              "      <td>38.8089</td>\n",
              "      <td>-78.7776</td>\n",
              "      <td>863</td>\n",
              "      <td>Engineer, mining</td>\n",
              "      <td>1972-08-09</td>\n",
              "      <td>c1baf744895ccdd487df277a96b3b49e</td>\n",
              "      <td>1330442981</td>\n",
              "      <td>38.058420</td>\n",
              "      <td>-79.107389</td>\n",
              "      <td>0</td>\n",
              "    </tr>\n",
              "    <tr>\n",
              "      <th>99999</th>\n",
              "      <td>99988</td>\n",
              "      <td>2019-02-28 15:30:09</td>\n",
              "      <td>3513618443244549</td>\n",
              "      <td>fraud_Conroy, Balistreri and Gorczany</td>\n",
              "      <td>health_fitness</td>\n",
              "      <td>40.23</td>\n",
              "      <td>Amber</td>\n",
              "      <td>Perez</td>\n",
              "      <td>F</td>\n",
              "      <td>954 Reyes Ways</td>\n",
              "      <td>...</td>\n",
              "      <td>43.7588</td>\n",
              "      <td>-97.8712</td>\n",
              "      <td>355</td>\n",
              "      <td>Financial adviser</td>\n",
              "      <td>1955-06-26</td>\n",
              "      <td>0f0e93c28ae80893cc8c3bdb131681c2</td>\n",
              "      <td>1330443009</td>\n",
              "      <td>43.344834</td>\n",
              "      <td>-97.138404</td>\n",
              "      <td>0</td>\n",
              "    </tr>\n",
              "  </tbody>\n",
              "</table>\n",
              "<p>5 rows × 23 columns</p>\n",
              "</div>\n",
              "    <div class=\"colab-df-buttons\">\n",
              "\n",
              "  <div class=\"colab-df-container\">\n",
              "    <button class=\"colab-df-convert\" onclick=\"convertToInteractive('df-1fe21452-22a2-482a-ae80-e93de4b7916d')\"\n",
              "            title=\"Convert this dataframe to an interactive table.\"\n",
              "            style=\"display:none;\">\n",
              "\n",
              "  <svg xmlns=\"http://www.w3.org/2000/svg\" height=\"24px\" viewBox=\"0 -960 960 960\">\n",
              "    <path d=\"M120-120v-720h720v720H120Zm60-500h600v-160H180v160Zm220 220h160v-160H400v160Zm0 220h160v-160H400v160ZM180-400h160v-160H180v160Zm440 0h160v-160H620v160ZM180-180h160v-160H180v160Zm440 0h160v-160H620v160Z\"/>\n",
              "  </svg>\n",
              "    </button>\n",
              "\n",
              "  <style>\n",
              "    .colab-df-container {\n",
              "      display:flex;\n",
              "      gap: 12px;\n",
              "    }\n",
              "\n",
              "    .colab-df-convert {\n",
              "      background-color: #E8F0FE;\n",
              "      border: none;\n",
              "      border-radius: 50%;\n",
              "      cursor: pointer;\n",
              "      display: none;\n",
              "      fill: #1967D2;\n",
              "      height: 32px;\n",
              "      padding: 0 0 0 0;\n",
              "      width: 32px;\n",
              "    }\n",
              "\n",
              "    .colab-df-convert:hover {\n",
              "      background-color: #E2EBFA;\n",
              "      box-shadow: 0px 1px 2px rgba(60, 64, 67, 0.3), 0px 1px 3px 1px rgba(60, 64, 67, 0.15);\n",
              "      fill: #174EA6;\n",
              "    }\n",
              "\n",
              "    .colab-df-buttons div {\n",
              "      margin-bottom: 4px;\n",
              "    }\n",
              "\n",
              "    [theme=dark] .colab-df-convert {\n",
              "      background-color: #3B4455;\n",
              "      fill: #D2E3FC;\n",
              "    }\n",
              "\n",
              "    [theme=dark] .colab-df-convert:hover {\n",
              "      background-color: #434B5C;\n",
              "      box-shadow: 0px 1px 3px 1px rgba(0, 0, 0, 0.15);\n",
              "      filter: drop-shadow(0px 1px 2px rgba(0, 0, 0, 0.3));\n",
              "      fill: #FFFFFF;\n",
              "    }\n",
              "  </style>\n",
              "\n",
              "    <script>\n",
              "      const buttonEl =\n",
              "        document.querySelector('#df-1fe21452-22a2-482a-ae80-e93de4b7916d button.colab-df-convert');\n",
              "      buttonEl.style.display =\n",
              "        google.colab.kernel.accessAllowed ? 'block' : 'none';\n",
              "\n",
              "      async function convertToInteractive(key) {\n",
              "        const element = document.querySelector('#df-1fe21452-22a2-482a-ae80-e93de4b7916d');\n",
              "        const dataTable =\n",
              "          await google.colab.kernel.invokeFunction('convertToInteractive',\n",
              "                                                    [key], {});\n",
              "        if (!dataTable) return;\n",
              "\n",
              "        const docLinkHtml = 'Like what you see? Visit the ' +\n",
              "          '<a target=\"_blank\" href=https://colab.research.google.com/notebooks/data_table.ipynb>data table notebook</a>'\n",
              "          + ' to learn more about interactive tables.';\n",
              "        element.innerHTML = '';\n",
              "        dataTable['output_type'] = 'display_data';\n",
              "        await google.colab.output.renderOutput(dataTable, element);\n",
              "        const docLink = document.createElement('div');\n",
              "        docLink.innerHTML = docLinkHtml;\n",
              "        element.appendChild(docLink);\n",
              "      }\n",
              "    </script>\n",
              "  </div>\n",
              "\n",
              "\n",
              "<div id=\"df-e30109bb-e8c0-4a94-b889-eec4f642bd2d\">\n",
              "  <button class=\"colab-df-quickchart\" onclick=\"quickchart('df-e30109bb-e8c0-4a94-b889-eec4f642bd2d')\"\n",
              "            title=\"Suggest charts\"\n",
              "            style=\"display:none;\">\n",
              "\n",
              "<svg xmlns=\"http://www.w3.org/2000/svg\" height=\"24px\"viewBox=\"0 0 24 24\"\n",
              "     width=\"24px\">\n",
              "    <g>\n",
              "        <path d=\"M19 3H5c-1.1 0-2 .9-2 2v14c0 1.1.9 2 2 2h14c1.1 0 2-.9 2-2V5c0-1.1-.9-2-2-2zM9 17H7v-7h2v7zm4 0h-2V7h2v10zm4 0h-2v-4h2v4z\"/>\n",
              "    </g>\n",
              "</svg>\n",
              "  </button>\n",
              "\n",
              "<style>\n",
              "  .colab-df-quickchart {\n",
              "      --bg-color: #E8F0FE;\n",
              "      --fill-color: #1967D2;\n",
              "      --hover-bg-color: #E2EBFA;\n",
              "      --hover-fill-color: #174EA6;\n",
              "      --disabled-fill-color: #AAA;\n",
              "      --disabled-bg-color: #DDD;\n",
              "  }\n",
              "\n",
              "  [theme=dark] .colab-df-quickchart {\n",
              "      --bg-color: #3B4455;\n",
              "      --fill-color: #D2E3FC;\n",
              "      --hover-bg-color: #434B5C;\n",
              "      --hover-fill-color: #FFFFFF;\n",
              "      --disabled-bg-color: #3B4455;\n",
              "      --disabled-fill-color: #666;\n",
              "  }\n",
              "\n",
              "  .colab-df-quickchart {\n",
              "    background-color: var(--bg-color);\n",
              "    border: none;\n",
              "    border-radius: 50%;\n",
              "    cursor: pointer;\n",
              "    display: none;\n",
              "    fill: var(--fill-color);\n",
              "    height: 32px;\n",
              "    padding: 0;\n",
              "    width: 32px;\n",
              "  }\n",
              "\n",
              "  .colab-df-quickchart:hover {\n",
              "    background-color: var(--hover-bg-color);\n",
              "    box-shadow: 0 1px 2px rgba(60, 64, 67, 0.3), 0 1px 3px 1px rgba(60, 64, 67, 0.15);\n",
              "    fill: var(--button-hover-fill-color);\n",
              "  }\n",
              "\n",
              "  .colab-df-quickchart-complete:disabled,\n",
              "  .colab-df-quickchart-complete:disabled:hover {\n",
              "    background-color: var(--disabled-bg-color);\n",
              "    fill: var(--disabled-fill-color);\n",
              "    box-shadow: none;\n",
              "  }\n",
              "\n",
              "  .colab-df-spinner {\n",
              "    border: 2px solid var(--fill-color);\n",
              "    border-color: transparent;\n",
              "    border-bottom-color: var(--fill-color);\n",
              "    animation:\n",
              "      spin 1s steps(1) infinite;\n",
              "  }\n",
              "\n",
              "  @keyframes spin {\n",
              "    0% {\n",
              "      border-color: transparent;\n",
              "      border-bottom-color: var(--fill-color);\n",
              "      border-left-color: var(--fill-color);\n",
              "    }\n",
              "    20% {\n",
              "      border-color: transparent;\n",
              "      border-left-color: var(--fill-color);\n",
              "      border-top-color: var(--fill-color);\n",
              "    }\n",
              "    30% {\n",
              "      border-color: transparent;\n",
              "      border-left-color: var(--fill-color);\n",
              "      border-top-color: var(--fill-color);\n",
              "      border-right-color: var(--fill-color);\n",
              "    }\n",
              "    40% {\n",
              "      border-color: transparent;\n",
              "      border-right-color: var(--fill-color);\n",
              "      border-top-color: var(--fill-color);\n",
              "    }\n",
              "    60% {\n",
              "      border-color: transparent;\n",
              "      border-right-color: var(--fill-color);\n",
              "    }\n",
              "    80% {\n",
              "      border-color: transparent;\n",
              "      border-right-color: var(--fill-color);\n",
              "      border-bottom-color: var(--fill-color);\n",
              "    }\n",
              "    90% {\n",
              "      border-color: transparent;\n",
              "      border-bottom-color: var(--fill-color);\n",
              "    }\n",
              "  }\n",
              "</style>\n",
              "\n",
              "  <script>\n",
              "    async function quickchart(key) {\n",
              "      const quickchartButtonEl =\n",
              "        document.querySelector('#' + key + ' button');\n",
              "      quickchartButtonEl.disabled = true;  // To prevent multiple clicks.\n",
              "      quickchartButtonEl.classList.add('colab-df-spinner');\n",
              "      try {\n",
              "        const charts = await google.colab.kernel.invokeFunction(\n",
              "            'suggestCharts', [key], {});\n",
              "      } catch (error) {\n",
              "        console.error('Error during call to suggestCharts:', error);\n",
              "      }\n",
              "      quickchartButtonEl.classList.remove('colab-df-spinner');\n",
              "      quickchartButtonEl.classList.add('colab-df-quickchart-complete');\n",
              "    }\n",
              "    (() => {\n",
              "      let quickchartButtonEl =\n",
              "        document.querySelector('#df-e30109bb-e8c0-4a94-b889-eec4f642bd2d button');\n",
              "      quickchartButtonEl.style.display =\n",
              "        google.colab.kernel.accessAllowed ? 'block' : 'none';\n",
              "    })();\n",
              "  </script>\n",
              "</div>\n",
              "    </div>\n",
              "  </div>\n"
            ]
          },
          "metadata": {},
          "execution_count": 61
        }
      ]
    },
    {
      "cell_type": "code",
      "source": [
        "print(df_train.value_counts())"
      ],
      "metadata": {
        "colab": {
          "base_uri": "https://localhost:8080/"
        },
        "id": "C5dHOKSEvzUg",
        "outputId": "789225b8-47d9-438d-f266-349bbcd5b33f"
      },
      "execution_count": null,
      "outputs": [
        {
          "output_type": "stream",
          "name": "stdout",
          "text": [
            "Unnamed: 0  trans_date_trans_time  cc_num               merchant                              category        amt     first       last      gender  street                           city               state  zip    lat      long       city_pop  job                               dob         trans_num                         unix_time   merch_lat  merch_long   is_fraud\n",
            "0           2019-01-01 00:00:18    2703186189652095     fraud_Rippin, Kub and Mann            misc_net        4.97    Jennifer    Banks     F       561 Perry Cove                   Moravian Falls     NC     28654  36.0788  -81.1781   3495      Psychologist, counselling         1988-03-09  0b242abb623afc578575680df30655b9  1325376018  36.011293  -82.048315   0           1\n",
            "66650       2019-02-09 12:14:05    2712209726293386     fraud_Kilback Group                   food_dining     21.28   Jenna       Brooks    F       50872 Alex Plain Suite 088       Baton Rouge        LA     70808  30.4066  -91.1468   378909    Designer, furniture               1977-02-22  11caebf67d0c2fae845d5f4bbd9c2c82  1328789645  29.636272  -91.043755   0           1\n",
            "66672       2019-02-09 12:33:55    6011917798331152     fraud_Medhurst, Cartwright and Ebert  personal_care   11.89   William     Johnson   M       50843 Vincent Mission            South Londonderry  VT     5155   43.1699  -72.8515   828       Scientific laboratory technician  1957-08-30  9d6f0d558772d79207e83bcc22f1f973  1328790835  43.550480  -73.269060   0           1\n",
            "66671       2019-02-09 12:31:15    3533800906065217     fraud_Kub-Heaney                      health_fitness  66.35   Amber       Thornton  F       840 Werner Lock Apt. 852         Campbell           NE     68932  40.2967  -98.7370   493       Surveyor, minerals                1940-09-13  5cb1efe71b8837cbe124a41e8c479eb6  1328790675  40.617613  -98.451740   0           1\n",
            "66670       2019-02-09 12:30:24    4358137750029944984  fraud_Pouros, Walker and Spencer      kids_pets       27.49   Dawn        Stephens  F       91542 Marissa Shores Apt. 053    Oran               IA     50664  42.7012  -92.0762   53        Sports administrator              1972-10-05  e41cbe7abacbfa186bec36dee6c5464e  1328790624  43.628553  -91.180949   0           1\n",
            "                                                                                                                                                                                                                                                                                                                                                                                   ..\n",
            "33331       2019-01-20 20:50:41    4599285557366057     fraud_Howe PLC                        entertainment   122.78  Mary        Williams  F       00315 Ashley Valleys             Burrton            KS     67020  38.0261  -97.6666   1689      Gaffer                            1997-11-18  dea161d246ab3a4cbc1df5267554c455  1327092641  37.413142  -97.581462   0           1\n",
            "33330       2019-01-20 20:50:17    2280870154157385     fraud_Runte, Green and Emard          health_fitness  219.15  Katherine   Cooper    F       3854 Lauren Springs Suite 648    Oakford            IL     62673  40.0994  -89.9601   530       Transport planner                 1967-09-23  e7f25ba5ae8cfc4cbabe8ed53a5e0665  1327092617  40.679054  -90.288550   0           1\n",
            "33329       2019-01-20 20:50:03    4981132848794        fraud_Hills, Hegmann and Schaefer     health_fitness  16.86   Joseph      Spencer   M       7854 Stephanie Island Suite 788  Holloway           OH     43985  40.0113  -80.9701   128       Child psychotherapist             1946-04-03  4000e63b2d1a3d657389d36322f2f562  1327092603  39.819342  -80.541178   0           1\n",
            "33328       2019-01-20 20:49:14    4561892980175        fraud_Roberts, Daniel and Macejkovic  kids_pets       54.41   Jacqueline  Allen     F       166 Lisa Fords                   Greenwood          IN     46143  39.5960  -86.1309   78968     Financial adviser                 1968-02-10  ee6613e0c257c1a2bff137e6d8c422c9  1327092554  39.277250  -86.743075   0           1\n",
            "100465      2019-02-28 23:03:29    30074693890476       fraud_Bernier and Sons                kids_pets       18.52   Kelsey      Richards  F       889 Sarah Station Suite 624      Holcomb            KS     67851  37.9931  -100.9893  2691      Arboriculturist                   1993-08-16  d4db9927c703b74846036eed6a6d7716  1330470209  38.902347  -101.036369  1           1\n",
            "Length: 100000, dtype: int64\n"
          ]
        }
      ]
    },
    {
      "cell_type": "code",
      "source": [
        "#Spalten des df\n",
        "print(df_train.columns.tolist())"
      ],
      "metadata": {
        "colab": {
          "base_uri": "https://localhost:8080/",
          "height": 191
        },
        "id": "bihg43r3wuOW",
        "outputId": "de07c2d3-9801-4cd3-90e6-a6923e22a5bd"
      },
      "execution_count": null,
      "outputs": [
        {
          "output_type": "error",
          "ename": "NameError",
          "evalue": "name 'df_train' is not defined",
          "traceback": [
            "\u001b[0;31m---------------------------------------------------------------------------\u001b[0m",
            "\u001b[0;31mNameError\u001b[0m                                 Traceback (most recent call last)",
            "\u001b[0;32m<ipython-input-2-c994e501275d>\u001b[0m in \u001b[0;36m<cell line: 2>\u001b[0;34m()\u001b[0m\n\u001b[1;32m      1\u001b[0m \u001b[0;31m#Spalten des df\u001b[0m\u001b[0;34m\u001b[0m\u001b[0;34m\u001b[0m\u001b[0m\n\u001b[0;32m----> 2\u001b[0;31m \u001b[0mprint\u001b[0m\u001b[0;34m(\u001b[0m\u001b[0mdf_train\u001b[0m\u001b[0;34m.\u001b[0m\u001b[0mcolumns\u001b[0m\u001b[0;34m.\u001b[0m\u001b[0mtolist\u001b[0m\u001b[0;34m(\u001b[0m\u001b[0;34m)\u001b[0m\u001b[0;34m)\u001b[0m\u001b[0;34m\u001b[0m\u001b[0;34m\u001b[0m\u001b[0m\n\u001b[0m",
            "\u001b[0;31mNameError\u001b[0m: name 'df_train' is not defined"
          ]
        }
      ]
    },
    {
      "cell_type": "markdown",
      "source": [
        "# Modellierung der Betrugserkennung"
      ],
      "metadata": {
        "id": "kL-6l5hmv_GG"
      }
    },
    {
      "cell_type": "markdown",
      "source": [
        "Modelle: FNN, LSTM, AE und dann Ensemble"
      ],
      "metadata": {
        "id": "KmwoITthwIBy"
      }
    },
    {
      "cell_type": "code",
      "source": [],
      "metadata": {
        "id": "eXJcNd2AwFPf"
      },
      "execution_count": null,
      "outputs": []
    },
    {
      "cell_type": "markdown",
      "source": [
        "## Feed Forward Neural Network"
      ],
      "metadata": {
        "id": "yq6dF97YyRia"
      }
    },
    {
      "cell_type": "code",
      "source": [],
      "metadata": {
        "id": "5-Hn4mMJyVQ9"
      },
      "execution_count": null,
      "outputs": []
    },
    {
      "cell_type": "markdown",
      "source": [
        "## Autoencoder"
      ],
      "metadata": {
        "id": "xBdGGonpyVYj"
      }
    },
    {
      "cell_type": "code",
      "source": [],
      "metadata": {
        "id": "6d6SPbIVyYIo"
      },
      "execution_count": null,
      "outputs": []
    },
    {
      "cell_type": "markdown",
      "source": [],
      "metadata": {
        "id": "3VoT08gmyYO2"
      }
    }
  ],
  "metadata": {
    "colab": {
      "provenance": [],
      "include_colab_link": true
    },
    "kernelspec": {
      "display_name": "Python 3",
      "name": "python3"
    },
    "language_info": {
      "name": "python"
    }
  },
  "nbformat": 4,
  "nbformat_minor": 0
}